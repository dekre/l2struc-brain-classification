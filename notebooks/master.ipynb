{
 "cells": [
  {
   "cell_type": "code",
   "execution_count": 1,
   "metadata": {},
   "outputs": [],
   "source": [
    "%load_ext autoreload\n",
    "%autoreload 2\n",
    "import sys\n",
    "import zipfile as zip\n",
    "from pathlib import Path\n",
    "MODULE_PATH = \"../src\"\n",
    "sys.path.insert(0,MODULE_PATH)"
   ]
  },
  {
   "cell_type": "code",
   "execution_count": 2,
   "metadata": {},
   "outputs": [
    {
     "name": "stdout",
     "output_type": "stream",
     "text": [
      "Model: \"sequential\"\n",
      "_________________________________________________________________\n",
      "Layer (type)                 Output Shape              Param #   \n",
      "=================================================================\n",
      "rescaling (Rescaling)        (None, 128, 128, 1)       0         \n",
      "_________________________________________________________________\n",
      "conv2d (Conv2D)              (None, 128, 128, 16)      80        \n",
      "_________________________________________________________________\n",
      "max_pooling2d (MaxPooling2D) (None, 64, 64, 16)        0         \n",
      "_________________________________________________________________\n",
      "conv2d_1 (Conv2D)            (None, 64, 64, 32)        2080      \n",
      "_________________________________________________________________\n",
      "max_pooling2d_1 (MaxPooling2 (None, 32, 32, 32)        0         \n",
      "_________________________________________________________________\n",
      "conv2d_2 (Conv2D)            (None, 32, 32, 64)        8256      \n",
      "_________________________________________________________________\n",
      "max_pooling2d_2 (MaxPooling2 (None, 16, 16, 64)        0         \n",
      "_________________________________________________________________\n",
      "flatten (Flatten)            (None, 16384)             0         \n",
      "_________________________________________________________________\n",
      "dense (Dense)                (None, 128)               2097280   \n",
      "_________________________________________________________________\n",
      "dense_1 (Dense)              (None, 2)                 258       \n",
      "=================================================================\n",
      "Total params: 2,107,954\n",
      "Trainable params: 2,107,954\n",
      "Non-trainable params: 0\n",
      "_________________________________________________________________\n"
     ]
    }
   ],
   "source": [
    "from aimodule.cnn import get_tf_cnn\n",
    "\n",
    "model = get_tf_cnn()\n",
    "model.summary()"
   ]
  },
  {
   "cell_type": "code",
   "execution_count": 4,
   "metadata": {
    "tags": []
   },
   "outputs": [
    {
     "name": "stdout",
     "output_type": "stream",
     "text": [
      "Epoch 1/10\n",
      "40/40 [==============================] - 41s 1s/step - loss: 0.6636 - accuracy: 0.6253 - val_loss: 0.7380 - val_accuracy: 0.5908\n",
      "Epoch 2/10\n",
      "40/40 [==============================] - 38s 960ms/step - loss: 0.3070 - accuracy: 0.9172 - val_loss: 1.1284 - val_accuracy: 0.5506\n",
      "Epoch 3/10\n",
      "40/40 [==============================] - 37s 948ms/step - loss: 0.0489 - accuracy: 0.9936 - val_loss: 1.6976 - val_accuracy: 0.5513\n",
      "Epoch 4/10\n",
      "40/40 [==============================] - 38s 948ms/step - loss: 0.0083 - accuracy: 1.0000 - val_loss: 1.8965 - val_accuracy: 0.6019\n",
      "Epoch 5/10\n",
      "40/40 [==============================] - 38s 949ms/step - loss: 0.0019 - accuracy: 1.0000 - val_loss: 2.1212 - val_accuracy: 0.5900\n",
      "Epoch 6/10\n",
      "40/40 [==============================] - 38s 948ms/step - loss: 0.0011 - accuracy: 1.0000 - val_loss: 2.2681 - val_accuracy: 0.5930\n",
      "Epoch 7/10\n",
      "40/40 [==============================] - 38s 949ms/step - loss: 7.6781e-04 - accuracy: 1.0000 - val_loss: 2.3522 - val_accuracy: 0.5930\n",
      "Epoch 8/10\n",
      "40/40 [==============================] - 37s 945ms/step - loss: 5.7140e-04 - accuracy: 1.0000 - val_loss: 2.4458 - val_accuracy: 0.5945\n",
      "Epoch 9/10\n",
      "40/40 [==============================] - 38s 949ms/step - loss: 4.2887e-04 - accuracy: 1.0000 - val_loss: 2.5256 - val_accuracy: 0.5990\n",
      "Epoch 10/10\n",
      "40/40 [==============================] - 38s 949ms/step - loss: 3.4287e-04 - accuracy: 1.0000 - val_loss: 2.5730 - val_accuracy: 0.5967\n",
      "Epoch 1/10\n",
      "42/42 [==============================] - 38s 912ms/step - loss: 0.7215 - accuracy: 0.7753 - val_loss: 1.1580 - val_accuracy: 0.6289\n",
      "Epoch 2/10\n",
      "42/42 [==============================] - 39s 933ms/step - loss: 0.1672 - accuracy: 0.9650 - val_loss: 1.6654 - val_accuracy: 0.6969\n",
      "Epoch 3/10\n",
      "42/42 [==============================] - 38s 909ms/step - loss: 0.0255 - accuracy: 0.9993 - val_loss: 2.5410 - val_accuracy: 0.6711\n",
      "Epoch 4/10\n",
      "42/42 [==============================] - 38s 904ms/step - loss: 0.0090 - accuracy: 0.9993 - val_loss: 2.6795 - val_accuracy: 0.6781\n",
      "Epoch 5/10\n",
      "42/42 [==============================] - 38s 911ms/step - loss: 0.0025 - accuracy: 1.0000 - val_loss: 2.8548 - val_accuracy: 0.6922\n",
      "Epoch 6/10\n",
      "42/42 [==============================] - 38s 904ms/step - loss: 0.0015 - accuracy: 1.0000 - val_loss: 3.0272 - val_accuracy: 0.6883\n",
      "Epoch 7/10\n",
      "42/42 [==============================] - 38s 916ms/step - loss: 0.0011 - accuracy: 1.0000 - val_loss: 3.1366 - val_accuracy: 0.6844\n",
      "Epoch 8/10\n",
      "42/42 [==============================] - 38s 905ms/step - loss: 9.3400e-04 - accuracy: 1.0000 - val_loss: 3.1940 - val_accuracy: 0.6914\n",
      "Epoch 9/10\n",
      "42/42 [==============================] - 38s 913ms/step - loss: 6.9804e-04 - accuracy: 1.0000 - val_loss: 3.3152 - val_accuracy: 0.6977\n",
      "Epoch 10/10\n",
      "42/42 [==============================] - 38s 914ms/step - loss: 5.7301e-04 - accuracy: 1.0000 - val_loss: 3.3323 - val_accuracy: 0.7008\n"
     ]
    }
   ],
   "source": [
    "from data import DataGenerator\n",
    "from settings import DATA_SRC_ZIP, DATA_SRC_LBL\n",
    "from preprocessing.steps import kfold_train_val_split\n",
    "\n",
    "epochs=10\n",
    "history = list()\n",
    "\n",
    "for X_train, X_test, y_train, y_test in kfold_train_val_split(DATA_SRC_ZIP, DATA_SRC_LBL):\n",
    "    ds_gen_train = DataGenerator(X_train, y_train, DATA_SRC_ZIP)\n",
    "    ds_gen_test = DataGenerator(X_test, y_test, DATA_SRC_ZIP)    \n",
    "    history.append(\n",
    "        model.fit(                                \n",
    "            ds_gen_train,            \n",
    "            validation_data=ds_gen_test,\n",
    "            epochs=epochs\n",
    "        )\n",
    "    )"
   ]
  },
  {
   "cell_type": "code",
   "execution_count": null,
   "metadata": {},
   "outputs": [],
   "source": []
  }
 ],
 "metadata": {
  "kernelspec": {
   "display_name": "Python 3",
   "language": "python",
   "name": "python3"
  },
  "language_info": {
   "codemirror_mode": {
    "name": "ipython",
    "version": 3
   },
   "file_extension": ".py",
   "mimetype": "text/x-python",
   "name": "python",
   "nbconvert_exporter": "python",
   "pygments_lexer": "ipython3",
   "version": "3.8.5"
  }
 },
 "nbformat": 4,
 "nbformat_minor": 5
}
